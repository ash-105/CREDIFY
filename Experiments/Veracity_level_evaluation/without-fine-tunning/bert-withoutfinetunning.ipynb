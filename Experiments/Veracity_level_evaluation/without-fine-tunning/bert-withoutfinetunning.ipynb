{
 "cells": [
  {
   "cell_type": "code",
   "execution_count": 1,
   "metadata": {
    "_cell_guid": "b1076dfc-b9ad-4769-8c92-a6c4dae69d19",
    "_uuid": "8f2839f25d086af736a60e9eeb907d3b93b6e0e5",
    "execution": {
     "iopub.execute_input": "2024-01-25T15:22:29.120417Z",
     "iopub.status.busy": "2024-01-25T15:22:29.119654Z",
     "iopub.status.idle": "2024-01-25T15:22:46.033687Z",
     "shell.execute_reply": "2024-01-25T15:22:46.032577Z",
     "shell.execute_reply.started": "2024-01-25T15:22:29.120386Z"
    }
   },
   "outputs": [
    {
     "name": "stdout",
     "output_type": "stream",
     "text": [
      "Collecting sentence_transformers\n",
      "  Downloading sentence-transformers-2.2.2.tar.gz (85 kB)\n",
      "\u001b[2K     \u001b[90m━━━━━━━━━━━━━━━━━━━━━━━━━━━━━━━━━━━━━━━━\u001b[0m \u001b[32m86.0/86.0 kB\u001b[0m \u001b[31m1.0 MB/s\u001b[0m eta \u001b[36m0:00:00\u001b[0ma \u001b[36m0:00:01\u001b[0mm\n",
      "\u001b[?25h  Preparing metadata (setup.py) ... \u001b[?25ldone\n",
      "\u001b[?25hRequirement already satisfied: transformers<5.0.0,>=4.6.0 in /opt/conda/lib/python3.10/site-packages (from sentence_transformers) (4.36.2)\n",
      "Requirement already satisfied: tqdm in /opt/conda/lib/python3.10/site-packages (from sentence_transformers) (4.66.1)\n",
      "Requirement already satisfied: torch>=1.6.0 in /opt/conda/lib/python3.10/site-packages (from sentence_transformers) (2.0.0)\n",
      "Requirement already satisfied: torchvision in /opt/conda/lib/python3.10/site-packages (from sentence_transformers) (0.15.1)\n",
      "Requirement already satisfied: numpy in /opt/conda/lib/python3.10/site-packages (from sentence_transformers) (1.24.3)\n",
      "Requirement already satisfied: scikit-learn in /opt/conda/lib/python3.10/site-packages (from sentence_transformers) (1.2.2)\n",
      "Requirement already satisfied: scipy in /opt/conda/lib/python3.10/site-packages (from sentence_transformers) (1.11.4)\n",
      "Requirement already satisfied: nltk in /opt/conda/lib/python3.10/site-packages (from sentence_transformers) (3.2.4)\n",
      "Requirement already satisfied: sentencepiece in /opt/conda/lib/python3.10/site-packages (from sentence_transformers) (0.1.99)\n",
      "Requirement already satisfied: huggingface-hub>=0.4.0 in /opt/conda/lib/python3.10/site-packages (from sentence_transformers) (0.20.2)\n",
      "Requirement already satisfied: filelock in /opt/conda/lib/python3.10/site-packages (from huggingface-hub>=0.4.0->sentence_transformers) (3.12.2)\n",
      "Requirement already satisfied: fsspec>=2023.5.0 in /opt/conda/lib/python3.10/site-packages (from huggingface-hub>=0.4.0->sentence_transformers) (2023.12.2)\n",
      "Requirement already satisfied: requests in /opt/conda/lib/python3.10/site-packages (from huggingface-hub>=0.4.0->sentence_transformers) (2.31.0)\n",
      "Requirement already satisfied: pyyaml>=5.1 in /opt/conda/lib/python3.10/site-packages (from huggingface-hub>=0.4.0->sentence_transformers) (6.0.1)\n",
      "Requirement already satisfied: typing-extensions>=3.7.4.3 in /opt/conda/lib/python3.10/site-packages (from huggingface-hub>=0.4.0->sentence_transformers) (4.5.0)\n",
      "Requirement already satisfied: packaging>=20.9 in /opt/conda/lib/python3.10/site-packages (from huggingface-hub>=0.4.0->sentence_transformers) (21.3)\n",
      "Requirement already satisfied: sympy in /opt/conda/lib/python3.10/site-packages (from torch>=1.6.0->sentence_transformers) (1.12)\n",
      "Requirement already satisfied: networkx in /opt/conda/lib/python3.10/site-packages (from torch>=1.6.0->sentence_transformers) (3.1)\n",
      "Requirement already satisfied: jinja2 in /opt/conda/lib/python3.10/site-packages (from torch>=1.6.0->sentence_transformers) (3.1.2)\n",
      "Requirement already satisfied: regex!=2019.12.17 in /opt/conda/lib/python3.10/site-packages (from transformers<5.0.0,>=4.6.0->sentence_transformers) (2023.8.8)\n",
      "Requirement already satisfied: tokenizers<0.19,>=0.14 in /opt/conda/lib/python3.10/site-packages (from transformers<5.0.0,>=4.6.0->sentence_transformers) (0.15.0)\n",
      "Requirement already satisfied: safetensors>=0.3.1 in /opt/conda/lib/python3.10/site-packages (from transformers<5.0.0,>=4.6.0->sentence_transformers) (0.4.1)\n",
      "Requirement already satisfied: six in /opt/conda/lib/python3.10/site-packages (from nltk->sentence_transformers) (1.16.0)\n",
      "Requirement already satisfied: joblib>=1.1.1 in /opt/conda/lib/python3.10/site-packages (from scikit-learn->sentence_transformers) (1.3.2)\n",
      "Requirement already satisfied: threadpoolctl>=2.0.0 in /opt/conda/lib/python3.10/site-packages (from scikit-learn->sentence_transformers) (3.2.0)\n",
      "Requirement already satisfied: pillow!=8.3.*,>=5.3.0 in /opt/conda/lib/python3.10/site-packages (from torchvision->sentence_transformers) (9.5.0)\n",
      "Requirement already satisfied: pyparsing!=3.0.5,>=2.0.2 in /opt/conda/lib/python3.10/site-packages (from packaging>=20.9->huggingface-hub>=0.4.0->sentence_transformers) (3.0.9)\n",
      "Requirement already satisfied: MarkupSafe>=2.0 in /opt/conda/lib/python3.10/site-packages (from jinja2->torch>=1.6.0->sentence_transformers) (2.1.3)\n",
      "Requirement already satisfied: charset-normalizer<4,>=2 in /opt/conda/lib/python3.10/site-packages (from requests->huggingface-hub>=0.4.0->sentence_transformers) (3.2.0)\n",
      "Requirement already satisfied: idna<4,>=2.5 in /opt/conda/lib/python3.10/site-packages (from requests->huggingface-hub>=0.4.0->sentence_transformers) (3.4)\n",
      "Requirement already satisfied: urllib3<3,>=1.21.1 in /opt/conda/lib/python3.10/site-packages (from requests->huggingface-hub>=0.4.0->sentence_transformers) (1.26.15)\n",
      "Requirement already satisfied: certifi>=2017.4.17 in /opt/conda/lib/python3.10/site-packages (from requests->huggingface-hub>=0.4.0->sentence_transformers) (2023.11.17)\n",
      "Requirement already satisfied: mpmath>=0.19 in /opt/conda/lib/python3.10/site-packages (from sympy->torch>=1.6.0->sentence_transformers) (1.3.0)\n",
      "Building wheels for collected packages: sentence_transformers\n",
      "  Building wheel for sentence_transformers (setup.py) ... \u001b[?25ldone\n",
      "\u001b[?25h  Created wheel for sentence_transformers: filename=sentence_transformers-2.2.2-py3-none-any.whl size=125923 sha256=05ebcb704a0eb4b6986a2caa234a1ca359f83acaa9bc4e629a096c2dfe9544af\n",
      "  Stored in directory: /root/.cache/pip/wheels/62/f2/10/1e606fd5f02395388f74e7462910fe851042f97238cbbd902f\n",
      "Successfully built sentence_transformers\n",
      "Installing collected packages: sentence_transformers\n",
      "Successfully installed sentence_transformers-2.2.2\n",
      "Note: you may need to restart the kernel to use updated packages.\n"
     ]
    }
   ],
   "source": [
    "pip install sentence_transformers"
   ]
  },
  {
   "cell_type": "code",
   "execution_count": 43,
   "metadata": {
    "execution": {
     "iopub.execute_input": "2024-01-25T15:51:37.390502Z",
     "iopub.status.busy": "2024-01-25T15:51:37.390042Z",
     "iopub.status.idle": "2024-01-25T15:51:37.395470Z",
     "shell.execute_reply": "2024-01-25T15:51:37.394440Z",
     "shell.execute_reply.started": "2024-01-25T15:51:37.390465Z"
    }
   },
   "outputs": [],
   "source": [
    "import torch\n",
    "from transformers import RobertaTokenizer, RobertaForSequenceClassification, AdamW\n",
    "from torch.utils.data import DataLoader, Dataset"
   ]
  },
  {
   "cell_type": "code",
   "execution_count": 88,
   "metadata": {
    "execution": {
     "iopub.execute_input": "2024-01-25T16:35:24.168178Z",
     "iopub.status.busy": "2024-01-25T16:35:24.167780Z",
     "iopub.status.idle": "2024-01-25T16:35:53.583394Z",
     "shell.execute_reply": "2024-01-25T16:35:53.582595Z",
     "shell.execute_reply.started": "2024-01-25T16:35:24.168151Z"
    }
   },
   "outputs": [
    {
     "data": {
      "application/vnd.jupyter.widget-view+json": {
       "model_id": "ccfcfac41bf5480f96cbd235e38cea27",
       "version_major": 2,
       "version_minor": 0
      },
      "text/plain": [
       "config.json:   0%|          | 0.00/630 [00:00<?, ?B/s]"
      ]
     },
     "metadata": {},
     "output_type": "display_data"
    },
    {
     "data": {
      "application/vnd.jupyter.widget-view+json": {
       "model_id": "aa1fc4a075314c76b9c873a6026db5c0",
       "version_major": 2,
       "version_minor": 0
      },
      "text/plain": [
       "pytorch_model.bin:   0%|          | 0.00/438M [00:00<?, ?B/s]"
      ]
     },
     "metadata": {},
     "output_type": "display_data"
    },
    {
     "data": {
      "application/vnd.jupyter.widget-view+json": {
       "model_id": "686e995a7c864e3c93d9d345289b7956",
       "version_major": 2,
       "version_minor": 0
      },
      "text/plain": [
       "vocab.txt:   0%|          | 0.00/232k [00:00<?, ?B/s]"
      ]
     },
     "metadata": {},
     "output_type": "display_data"
    }
   ],
   "source": [
    "import torch\n",
    "from transformers import BertTokenizer, BertForSequenceClassification, AdamW\n",
    "from torch.utils.data import DataLoader, Dataset\n",
    "\n",
    "class FactVerificationDataset(Dataset):\n",
    "    def __init__(self, data):\n",
    "        self.data = data\n",
    "        self.tokenizer = BertTokenizer.from_pretrained('bert-base-uncased')\n",
    "\n",
    "    def __len__(self):\n",
    "        return len(self.data)\n",
    "\n",
    "    def __getitem__(self, index):\n",
    "        item = self.data[index]\n",
    "        encoded_input = self.tokenizer.encode_plus(\n",
    "            item['Claim'],\n",
    "            item['evidence'],\n",
    "            padding='max_length',\n",
    "            truncation=True,\n",
    "            max_length=128,\n",
    "            return_tensors='pt'\n",
    "        )\n",
    "        label = item['label']\n",
    "        return {\n",
    "            'input_ids': encoded_input['input_ids'].squeeze(),\n",
    "            'attention_mask': encoded_input['attention_mask'].squeeze(),\n",
    "            'label': torch.tensor(label)\n",
    "        }\n",
    "\n",
    "\n",
    "\n",
    "# Load the pre-trained BERT model\n",
    "model = BertForSequenceClassification.from_pretrained('textattack/bert-base-uncased-snli', num_labels=3)\n",
    "tokenizer = BertTokenizer.from_pretrained('textattack/bert-base-uncased-snli')\n"
   ]
  },
  {
   "cell_type": "code",
   "execution_count": 89,
   "metadata": {
    "execution": {
     "iopub.execute_input": "2024-01-25T16:36:00.585657Z",
     "iopub.status.busy": "2024-01-25T16:36:00.584701Z",
     "iopub.status.idle": "2024-01-25T16:36:00.597921Z",
     "shell.execute_reply": "2024-01-25T16:36:00.596985Z",
     "shell.execute_reply.started": "2024-01-25T16:36:00.585620Z"
    }
   },
   "outputs": [],
   "source": [
    "import json\n",
    "\n",
    "# Step 1: Open the JSON file\n",
    "with open('/kaggle/input/ashhhhhhhhhhhhhhhhhh/test - Copy.json', 'r', encoding='utf-8') as file:\n",
    "    # Step 2: Parse the JSON data\n",
    "    testing_dataset = json.load(file)\n",
    "\n"
   ]
  },
  {
   "cell_type": "code",
   "execution_count": 90,
   "metadata": {
    "execution": {
     "iopub.execute_input": "2024-01-25T16:36:03.311601Z",
     "iopub.status.busy": "2024-01-25T16:36:03.311174Z",
     "iopub.status.idle": "2024-01-25T16:36:03.317395Z",
     "shell.execute_reply": "2024-01-25T16:36:03.316354Z",
     "shell.execute_reply.started": "2024-01-25T16:36:03.311569Z"
    }
   },
   "outputs": [
    {
     "name": "stdout",
     "output_type": "stream",
     "text": [
      "Key Names: ['Claim', 'evidence', 'label']\n"
     ]
    }
   ],
   "source": [
    "if testing_dataset and isinstance(testing_dataset[0], dict):\n",
    "    # Display the keys (column names) from the first dictionary\n",
    "    print(\"Key Names:\", list(testing_dataset[0].keys()))"
   ]
  },
  {
   "cell_type": "code",
   "execution_count": 91,
   "metadata": {
    "execution": {
     "iopub.execute_input": "2024-01-25T16:36:05.992725Z",
     "iopub.status.busy": "2024-01-25T16:36:05.992004Z",
     "iopub.status.idle": "2024-01-25T16:36:06.811514Z",
     "shell.execute_reply": "2024-01-25T16:36:06.810732Z",
     "shell.execute_reply.started": "2024-01-25T16:36:05.992692Z"
    }
   },
   "outputs": [
    {
     "data": {
      "application/vnd.jupyter.widget-view+json": {
       "model_id": "ba597560b1b440b09f3bdec09b1a1614",
       "version_major": 2,
       "version_minor": 0
      },
      "text/plain": [
       "tokenizer_config.json:   0%|          | 0.00/28.0 [00:00<?, ?B/s]"
      ]
     },
     "metadata": {},
     "output_type": "display_data"
    },
    {
     "data": {
      "application/vnd.jupyter.widget-view+json": {
       "model_id": "cd67722dda334d9c89cc22a0f3c2aba6",
       "version_major": 2,
       "version_minor": 0
      },
      "text/plain": [
       "vocab.txt:   0%|          | 0.00/232k [00:00<?, ?B/s]"
      ]
     },
     "metadata": {},
     "output_type": "display_data"
    },
    {
     "data": {
      "application/vnd.jupyter.widget-view+json": {
       "model_id": "3da4a8ef02ba4c23998be46c2def06e8",
       "version_major": 2,
       "version_minor": 0
      },
      "text/plain": [
       "tokenizer.json:   0%|          | 0.00/466k [00:00<?, ?B/s]"
      ]
     },
     "metadata": {},
     "output_type": "display_data"
    },
    {
     "data": {
      "application/vnd.jupyter.widget-view+json": {
       "model_id": "97b54aa6bc7f4e24b62defc300d1910e",
       "version_major": 2,
       "version_minor": 0
      },
      "text/plain": [
       "config.json:   0%|          | 0.00/570 [00:00<?, ?B/s]"
      ]
     },
     "metadata": {},
     "output_type": "display_data"
    }
   ],
   "source": [
    "evaluation_dataset = FactVerificationDataset(testing_dataset)"
   ]
  },
  {
   "cell_type": "code",
   "execution_count": 92,
   "metadata": {
    "execution": {
     "iopub.execute_input": "2024-01-25T16:36:16.164719Z",
     "iopub.status.busy": "2024-01-25T16:36:16.163922Z",
     "iopub.status.idle": "2024-01-25T16:36:16.285412Z",
     "shell.execute_reply": "2024-01-25T16:36:16.284428Z",
     "shell.execute_reply.started": "2024-01-25T16:36:16.164684Z"
    }
   },
   "outputs": [
    {
     "data": {
      "text/plain": [
       "BertForSequenceClassification(\n",
       "  (bert): BertModel(\n",
       "    (embeddings): BertEmbeddings(\n",
       "      (word_embeddings): Embedding(30522, 768, padding_idx=0)\n",
       "      (position_embeddings): Embedding(512, 768)\n",
       "      (token_type_embeddings): Embedding(2, 768)\n",
       "      (LayerNorm): LayerNorm((768,), eps=1e-12, elementwise_affine=True)\n",
       "      (dropout): Dropout(p=0.1, inplace=False)\n",
       "    )\n",
       "    (encoder): BertEncoder(\n",
       "      (layer): ModuleList(\n",
       "        (0-11): 12 x BertLayer(\n",
       "          (attention): BertAttention(\n",
       "            (self): BertSelfAttention(\n",
       "              (query): Linear(in_features=768, out_features=768, bias=True)\n",
       "              (key): Linear(in_features=768, out_features=768, bias=True)\n",
       "              (value): Linear(in_features=768, out_features=768, bias=True)\n",
       "              (dropout): Dropout(p=0.1, inplace=False)\n",
       "            )\n",
       "            (output): BertSelfOutput(\n",
       "              (dense): Linear(in_features=768, out_features=768, bias=True)\n",
       "              (LayerNorm): LayerNorm((768,), eps=1e-12, elementwise_affine=True)\n",
       "              (dropout): Dropout(p=0.1, inplace=False)\n",
       "            )\n",
       "          )\n",
       "          (intermediate): BertIntermediate(\n",
       "            (dense): Linear(in_features=768, out_features=3072, bias=True)\n",
       "            (intermediate_act_fn): GELUActivation()\n",
       "          )\n",
       "          (output): BertOutput(\n",
       "            (dense): Linear(in_features=3072, out_features=768, bias=True)\n",
       "            (LayerNorm): LayerNorm((768,), eps=1e-12, elementwise_affine=True)\n",
       "            (dropout): Dropout(p=0.1, inplace=False)\n",
       "          )\n",
       "        )\n",
       "      )\n",
       "    )\n",
       "    (pooler): BertPooler(\n",
       "      (dense): Linear(in_features=768, out_features=768, bias=True)\n",
       "      (activation): Tanh()\n",
       "    )\n",
       "  )\n",
       "  (dropout): Dropout(p=0.1, inplace=False)\n",
       "  (classifier): Linear(in_features=768, out_features=3, bias=True)\n",
       ")"
      ]
     },
     "execution_count": 92,
     "metadata": {},
     "output_type": "execute_result"
    }
   ],
   "source": [
    "device = torch.device('cuda' if torch.cuda.is_available() else 'cpu')\n",
    "model.to(device)\n",
    "\n",
    "# Evaluate the model on the testing dataset\n",
    "model.eval()\n"
   ]
  },
  {
   "cell_type": "code",
   "execution_count": 93,
   "metadata": {
    "execution": {
     "iopub.execute_input": "2024-01-25T16:36:19.533608Z",
     "iopub.status.busy": "2024-01-25T16:36:19.532922Z",
     "iopub.status.idle": "2024-01-25T16:36:23.369402Z",
     "shell.execute_reply": "2024-01-25T16:36:23.368456Z",
     "shell.execute_reply.started": "2024-01-25T16:36:19.533575Z"
    }
   },
   "outputs": [
    {
     "name": "stdout",
     "output_type": "stream",
     "text": [
      "Accuracy: 0.4072494669509595\n"
     ]
    }
   ],
   "source": [
    "evaluation_dataloader = DataLoader(evaluation_dataset, batch_size=16, shuffle=False)\n",
    "\n",
    "correct_predictions = 0\n",
    "total_predictions = 0\n",
    "\n",
    "for batch in evaluation_dataloader:\n",
    "    input_ids = batch['input_ids'].to(device)\n",
    "    attention_mask = batch['attention_mask'].to(device)\n",
    "    labels = batch['label'].to(device)\n",
    "\n",
    "    with torch.no_grad():\n",
    "        outputs = model(input_ids, attention_mask=attention_mask)\n",
    "        predicted_labels = torch.argmax(outputs.logits, dim=1)\n",
    "\n",
    "    correct_predictions += (predicted_labels == labels).sum().item()\n",
    "    total_predictions += len(labels)\n",
    "\n",
    "accuracy = correct_predictions / total_predictions\n",
    "print(f\"Accuracy: {accuracy}\")"
   ]
  },
  {
   "cell_type": "code",
   "execution_count": 94,
   "metadata": {
    "execution": {
     "iopub.execute_input": "2024-01-25T16:36:29.097407Z",
     "iopub.status.busy": "2024-01-25T16:36:29.097056Z",
     "iopub.status.idle": "2024-01-25T16:36:32.917353Z",
     "shell.execute_reply": "2024-01-25T16:36:32.916473Z",
     "shell.execute_reply.started": "2024-01-25T16:36:29.097380Z"
    }
   },
   "outputs": [
    {
     "name": "stdout",
     "output_type": "stream",
     "text": [
      "Accuracy: 0.4072494669509595\n"
     ]
    }
   ],
   "source": [
    "correct_predictions = 0\n",
    "total_predictions = 0\n",
    "predicted_labels_list = []  # List to store predicted labels\n",
    "original_labels_list = []   # List to store original labels\n",
    "\n",
    "for batch in evaluation_dataloader:\n",
    "    input_ids = batch['input_ids'].to(device)\n",
    "    attention_mask = batch['attention_mask'].to(device)\n",
    "    labels = batch['label'].to(device)\n",
    "\n",
    "    with torch.no_grad():\n",
    "        outputs = model(input_ids, attention_mask=attention_mask)\n",
    "        predicted_labels = torch.argmax(outputs.logits, dim=1)\n",
    "\n",
    "    correct_predictions += (predicted_labels == labels).sum().item()\n",
    "    total_predictions += len(labels)\n",
    "\n",
    "    # Append predicted and original labels to their respective lists\n",
    "    predicted_labels_list.extend(predicted_labels.cpu().numpy())\n",
    "    original_labels_list.extend(labels.cpu().numpy())\n",
    "\n",
    "accuracy = correct_predictions / total_predictions\n",
    "print(f\"Accuracy: {accuracy}\")\n",
    "\n",
    "# Now you can work with predicted_labels_list and original_labels_list outside the loop\n"
   ]
  },
  {
   "cell_type": "code",
   "execution_count": 95,
   "metadata": {
    "execution": {
     "iopub.execute_input": "2024-01-25T16:36:37.411860Z",
     "iopub.status.busy": "2024-01-25T16:36:37.411498Z",
     "iopub.status.idle": "2024-01-25T16:36:37.739889Z",
     "shell.execute_reply": "2024-01-25T16:36:37.738803Z",
     "shell.execute_reply.started": "2024-01-25T16:36:37.411833Z"
    }
   },
   "outputs": [
    {
     "data": {
      "image/png": "[encoded data removed]",
      "text/plain": [
       "<Figure size 800x600 with 2 Axes>"
      ]
     },
     "metadata": {},
     "output_type": "display_data"
    }
   ],
   "source": [
    "import numpy as np\n",
    "import matplotlib.pyplot as plt\n",
    "import seaborn as sns\n",
    "from sklearn.metrics import confusion_matrix\n",
    "\n",
    "# Assuming correct_predictions and predicted_labels are your data\n",
    "correct_predictions = [0, 1, 2, 0, 1, 2, 0, 1, 2]\n",
    "predicted_labels = [0, 1, 2, 1, 0, 1, 2, 0, 2]\n",
    "\n",
    "# Get unique labels from the data\n",
    "labels = [0,1,2]\n",
    "\n",
    "# Create the confusion matrix\n",
    "conf_matrix = confusion_matrix(original_labels_list, predicted_labels_list, labels=labels)\n",
    "\n",
    "# Create a heatmap using Seaborn\n",
    "plt.figure(figsize=(8, 6))\n",
    "sns.set(font_scale=1.2)\n",
    "sns.heatmap(conf_matrix, annot=True, fmt=\"d\", cmap=\"Blues\", xticklabels=labels, yticklabels=labels)\n",
    "plt.xlabel(\"Predicted\")\n",
    "plt.ylabel(\"Actual\")\n",
    "plt.title(\"Confusion Matrix\")\n",
    "plt.show()\n"
   ]
  },
  {
   "cell_type": "code",
   "execution_count": 96,
   "metadata": {
    "execution": {
     "iopub.execute_input": "2024-01-25T16:36:46.352144Z",
     "iopub.status.busy": "2024-01-25T16:36:46.351730Z",
     "iopub.status.idle": "2024-01-25T16:36:46.368899Z",
     "shell.execute_reply": "2024-01-25T16:36:46.367838Z",
     "shell.execute_reply.started": "2024-01-25T16:36:46.352110Z"
    }
   },
   "outputs": [
    {
     "name": "stdout",
     "output_type": "stream",
     "text": [
      "Classification Report:\n",
      "              precision    recall  f1-score   support\n",
      "\n",
      "           0       0.83      0.31      0.45       172\n",
      "           1       0.48      0.17      0.25       174\n",
      "           2       0.31      0.88      0.46       123\n",
      "\n",
      "    accuracy                           0.41       469\n",
      "   macro avg       0.54      0.45      0.39       469\n",
      "weighted avg       0.57      0.41      0.38       469\n",
      "\n"
     ]
    }
   ],
   "source": [
    "from sklearn.metrics import classification_report\n",
    "\n",
    "# Assuming original_labels_list and predicted_labels_list are your data\n",
    "\n",
    "\n",
    "# Get unique labels from the data\n",
    "labels = sorted(set(original_labels_list + predicted_labels_list))\n",
    "\n",
    "# Compute the classification report\n",
    "class_report = classification_report(original_labels_list, predicted_labels_list, labels=labels)\n",
    "\n",
    "# Print the classification report\n",
    "print(\"Classification Report:\")\n",
    "print(class_report)\n"
   ]
  },
  {
   "cell_type": "code",
   "execution_count": 97,
   "metadata": {
    "execution": {
     "iopub.execute_input": "2024-01-25T16:36:58.841658Z",
     "iopub.status.busy": "2024-01-25T16:36:58.841275Z",
     "iopub.status.idle": "2024-01-25T16:36:58.901960Z",
     "shell.execute_reply": "2024-01-25T16:36:58.901130Z",
     "shell.execute_reply.started": "2024-01-25T16:36:58.841626Z"
    }
   },
   "outputs": [
    {
     "name": "stdout",
     "output_type": "stream",
     "text": [
      "Micro Precision: 0.4072494669509595\n",
      "Micro Recall: 0.4072494669509595\n",
      "Micro F1 Score: 0.4072494669509594\n",
      "Macro Precision: 0.5422882574688862\n",
      "Macro Recall: 0.45286736949165807\n",
      "Macro F1 Score: 0.3889697146043985\n",
      "Class 0 - Micro Precision: 0.828125, Micro Recall: 0.3081395348837209, Micro F1 Score: 0.44915254237288127\n",
      "Class 0 - Macro Precision: 0.828125, Macro Recall: 0.3081395348837209, Macro F1 Score: 0.44915254237288127\n",
      "Class 1 - Micro Precision: 0.4838709677419355, Micro Recall: 0.1724137931034483, Micro F1 Score: 0.25423728813559326\n",
      "Class 1 - Macro Precision: 0.4838709677419355, Macro Recall: 0.1724137931034483, Macro F1 Score: 0.25423728813559326\n",
      "Class 2 - Micro Precision: 0.31486880466472306, Micro Recall: 0.8780487804878049, Micro F1 Score: 0.46351931330472107\n",
      "Class 2 - Macro Precision: 0.31486880466472306, Macro Recall: 0.8780487804878049, Macro F1 Score: 0.46351931330472107\n"
     ]
    }
   ],
   "source": [
    "from sklearn.metrics import precision_score, recall_score, f1_score\n",
    "\n",
    "# Assuming original_labels_list and predicted_labels_list are your data\n",
    "# Assuming labels are [0, 1, 2] for the three classes\n",
    "\n",
    "# Get unique labels from the data\n",
    "labels = [0, 1, 2]\n",
    "\n",
    "# Initialize dictionaries to store precision, recall, and F1 scores for each class\n",
    "precision_per_class = {}\n",
    "recall_per_class = {}\n",
    "f1_per_class = {}\n",
    "\n",
    "# Compute precision, recall, and F1 score for each class\n",
    "for label in labels:\n",
    "    precision_per_class[label] = precision_score(original_labels_list, predicted_labels_list, labels=[label], average='micro')\n",
    "    recall_per_class[label] = recall_score(original_labels_list, predicted_labels_list, labels=[label], average='micro')\n",
    "    f1_per_class[label] = f1_score(original_labels_list, predicted_labels_list, labels=[label], average='micro')\n",
    "\n",
    "# Compute micro averages\n",
    "micro_precision = precision_score(original_labels_list, predicted_labels_list, average='micro')\n",
    "micro_recall = recall_score(original_labels_list, predicted_labels_list, average='micro')\n",
    "micro_f1 = f1_score(original_labels_list, predicted_labels_list, average='micro')\n",
    "\n",
    "# Compute macro averages\n",
    "macro_precision = sum(precision_per_class.values()) / len(precision_per_class)\n",
    "macro_recall = sum(recall_per_class.values()) / len(recall_per_class)\n",
    "macro_f1 = sum(f1_per_class.values()) / len(f1_per_class)\n",
    "\n",
    "# Print or use the results as needed\n",
    "print(\"Micro Precision:\", micro_precision)\n",
    "print(\"Micro Recall:\", micro_recall)\n",
    "print(\"Micro F1 Score:\", micro_f1)\n",
    "print(\"Macro Precision:\", macro_precision)\n",
    "print(\"Macro Recall:\", macro_recall)\n",
    "print(\"Macro F1 Score:\", macro_f1)\n",
    "\n",
    "# Print precision, recall, and F1 scores for each class\n",
    "for label in labels:\n",
    "    print(f\"Class {label} - Micro Precision: {precision_per_class[label]}, Micro Recall: {recall_per_class[label]}, Micro F1 Score: {f1_per_class[label]}\")\n",
    "\n",
    "    # Calculate macro F1 for each class\n",
    "    precision_class = precision_score(original_labels_list, predicted_labels_list, labels=[label], average='macro')\n",
    "    recall_class = recall_score(original_labels_list, predicted_labels_list, labels=[label], average='macro')\n",
    "    f1_class = f1_score(original_labels_list, predicted_labels_list, labels=[label], average='macro')\n",
    "\n",
    "    print(f\"Class {label} - Macro Precision: {precision_class}, Macro Recall: {recall_class}, Macro F1 Score: {f1_class}\")\n"
   ]
  }
 ],
 "metadata": {
  "kaggle": {
   "accelerator": "nvidiaTeslaT4",
   "dataSources": [
    {
     "datasetId": 4354480,
     "sourceId": 7480429,
     "sourceType": "datasetVersion"
    }
   ],
   "dockerImageVersionId": 30636,
   "isGpuEnabled": true,
   "isInternetEnabled": true,
   "language": "python",
   "sourceType": "notebook"
  },
  "kernelspec": {
   "display_name": "Python 3",
   "language": "python",
   "name": "python3"
  },
  "language_info": {
   "codemirror_mode": {
    "name": "ipython",
    "version": 3
   },
   "file_extension": ".py",
   "mimetype": "text/x-python",
   "name": "python",
   "nbconvert_exporter": "python",
   "pygments_lexer": "ipython3",
   "version": "3.8.5"
  }
 },
 "nbformat": 4,
 "nbformat_minor": 4
}
