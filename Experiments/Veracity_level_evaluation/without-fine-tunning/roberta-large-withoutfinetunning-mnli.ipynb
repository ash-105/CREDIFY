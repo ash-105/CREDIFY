{
 "cells": [
  {
   "cell_type": "code",
   "execution_count": 1,
   "metadata": {
    "_cell_guid": "b1076dfc-b9ad-4769-8c92-a6c4dae69d19",
    "_uuid": "8f2839f25d086af736a60e9eeb907d3b93b6e0e5",
    "execution": {
     "iopub.execute_input": "2024-01-25T15:22:29.120417Z",
     "iopub.status.busy": "2024-01-25T15:22:29.119654Z",
     "iopub.status.idle": "2024-01-25T15:22:46.033687Z",
     "shell.execute_reply": "2024-01-25T15:22:46.032577Z",
     "shell.execute_reply.started": "2024-01-25T15:22:29.120386Z"
    }
   },
   "outputs": [
    {
     "name": "stdout",
     "output_type": "stream",
     "text": [
      "Collecting sentence_transformers\n",
      "  Downloading sentence-transformers-2.2.2.tar.gz (85 kB)\n",
      "\u001b[2K     \u001b[90m━━━━━━━━━━━━━━━━━━━━━━━━━━━━━━━━━━━━━━━━\u001b[0m \u001b[32m86.0/86.0 kB\u001b[0m \u001b[31m1.0 MB/s\u001b[0m eta \u001b[36m0:00:00\u001b[0ma \u001b[36m0:00:01\u001b[0mm\n",
      "\u001b[?25h  Preparing metadata (setup.py) ... \u001b[?25ldone\n",
      "\u001b[?25hRequirement already satisfied: transformers<5.0.0,>=4.6.0 in /opt/conda/lib/python3.10/site-packages (from sentence_transformers) (4.36.2)\n",
      "Requirement already satisfied: tqdm in /opt/conda/lib/python3.10/site-packages (from sentence_transformers) (4.66.1)\n",
      "Requirement already satisfied: torch>=1.6.0 in /opt/conda/lib/python3.10/site-packages (from sentence_transformers) (2.0.0)\n",
      "Requirement already satisfied: torchvision in /opt/conda/lib/python3.10/site-packages (from sentence_transformers) (0.15.1)\n",
      "Requirement already satisfied: numpy in /opt/conda/lib/python3.10/site-packages (from sentence_transformers) (1.24.3)\n",
      "Requirement already satisfied: scikit-learn in /opt/conda/lib/python3.10/site-packages (from sentence_transformers) (1.2.2)\n",
      "Requirement already satisfied: scipy in /opt/conda/lib/python3.10/site-packages (from sentence_transformers) (1.11.4)\n",
      "Requirement already satisfied: nltk in /opt/conda/lib/python3.10/site-packages (from sentence_transformers) (3.2.4)\n",
      "Requirement already satisfied: sentencepiece in /opt/conda/lib/python3.10/site-packages (from sentence_transformers) (0.1.99)\n",
      "Requirement already satisfied: huggingface-hub>=0.4.0 in /opt/conda/lib/python3.10/site-packages (from sentence_transformers) (0.20.2)\n",
      "Requirement already satisfied: filelock in /opt/conda/lib/python3.10/site-packages (from huggingface-hub>=0.4.0->sentence_transformers) (3.12.2)\n",
      "Requirement already satisfied: fsspec>=2023.5.0 in /opt/conda/lib/python3.10/site-packages (from huggingface-hub>=0.4.0->sentence_transformers) (2023.12.2)\n",
      "Requirement already satisfied: requests in /opt/conda/lib/python3.10/site-packages (from huggingface-hub>=0.4.0->sentence_transformers) (2.31.0)\n",
      "Requirement already satisfied: pyyaml>=5.1 in /opt/conda/lib/python3.10/site-packages (from huggingface-hub>=0.4.0->sentence_transformers) (6.0.1)\n",
      "Requirement already satisfied: typing-extensions>=3.7.4.3 in /opt/conda/lib/python3.10/site-packages (from huggingface-hub>=0.4.0->sentence_transformers) (4.5.0)\n",
      "Requirement already satisfied: packaging>=20.9 in /opt/conda/lib/python3.10/site-packages (from huggingface-hub>=0.4.0->sentence_transformers) (21.3)\n",
      "Requirement already satisfied: sympy in /opt/conda/lib/python3.10/site-packages (from torch>=1.6.0->sentence_transformers) (1.12)\n",
      "Requirement already satisfied: networkx in /opt/conda/lib/python3.10/site-packages (from torch>=1.6.0->sentence_transformers) (3.1)\n",
      "Requirement already satisfied: jinja2 in /opt/conda/lib/python3.10/site-packages (from torch>=1.6.0->sentence_transformers) (3.1.2)\n",
      "Requirement already satisfied: regex!=2019.12.17 in /opt/conda/lib/python3.10/site-packages (from transformers<5.0.0,>=4.6.0->sentence_transformers) (2023.8.8)\n",
      "Requirement already satisfied: tokenizers<0.19,>=0.14 in /opt/conda/lib/python3.10/site-packages (from transformers<5.0.0,>=4.6.0->sentence_transformers) (0.15.0)\n",
      "Requirement already satisfied: safetensors>=0.3.1 in /opt/conda/lib/python3.10/site-packages (from transformers<5.0.0,>=4.6.0->sentence_transformers) (0.4.1)\n",
      "Requirement already satisfied: six in /opt/conda/lib/python3.10/site-packages (from nltk->sentence_transformers) (1.16.0)\n",
      "Requirement already satisfied: joblib>=1.1.1 in /opt/conda/lib/python3.10/site-packages (from scikit-learn->sentence_transformers) (1.3.2)\n",
      "Requirement already satisfied: threadpoolctl>=2.0.0 in /opt/conda/lib/python3.10/site-packages (from scikit-learn->sentence_transformers) (3.2.0)\n",
      "Requirement already satisfied: pillow!=8.3.*,>=5.3.0 in /opt/conda/lib/python3.10/site-packages (from torchvision->sentence_transformers) (9.5.0)\n",
      "Requirement already satisfied: pyparsing!=3.0.5,>=2.0.2 in /opt/conda/lib/python3.10/site-packages (from packaging>=20.9->huggingface-hub>=0.4.0->sentence_transformers) (3.0.9)\n",
      "Requirement already satisfied: MarkupSafe>=2.0 in /opt/conda/lib/python3.10/site-packages (from jinja2->torch>=1.6.0->sentence_transformers) (2.1.3)\n",
      "Requirement already satisfied: charset-normalizer<4,>=2 in /opt/conda/lib/python3.10/site-packages (from requests->huggingface-hub>=0.4.0->sentence_transformers) (3.2.0)\n",
      "Requirement already satisfied: idna<4,>=2.5 in /opt/conda/lib/python3.10/site-packages (from requests->huggingface-hub>=0.4.0->sentence_transformers) (3.4)\n",
      "Requirement already satisfied: urllib3<3,>=1.21.1 in /opt/conda/lib/python3.10/site-packages (from requests->huggingface-hub>=0.4.0->sentence_transformers) (1.26.15)\n",
      "Requirement already satisfied: certifi>=2017.4.17 in /opt/conda/lib/python3.10/site-packages (from requests->huggingface-hub>=0.4.0->sentence_transformers) (2023.11.17)\n",
      "Requirement already satisfied: mpmath>=0.19 in /opt/conda/lib/python3.10/site-packages (from sympy->torch>=1.6.0->sentence_transformers) (1.3.0)\n",
      "Building wheels for collected packages: sentence_transformers\n",
      "  Building wheel for sentence_transformers (setup.py) ... \u001b[?25ldone\n",
      "\u001b[?25h  Created wheel for sentence_transformers: filename=sentence_transformers-2.2.2-py3-none-any.whl size=125923 sha256=05ebcb704a0eb4b6986a2caa234a1ca359f83acaa9bc4e629a096c2dfe9544af\n",
      "  Stored in directory: /root/.cache/pip/wheels/62/f2/10/1e606fd5f02395388f74e7462910fe851042f97238cbbd902f\n",
      "Successfully built sentence_transformers\n",
      "Installing collected packages: sentence_transformers\n",
      "Successfully installed sentence_transformers-2.2.2\n",
      "Note: you may need to restart the kernel to use updated packages.\n"
     ]
    }
   ],
   "source": [
    "pip install sentence_transformers"
   ]
  },
  {
   "cell_type": "code",
   "execution_count": 43,
   "metadata": {
    "execution": {
     "iopub.execute_input": "2024-01-25T15:51:37.390502Z",
     "iopub.status.busy": "2024-01-25T15:51:37.390042Z",
     "iopub.status.idle": "2024-01-25T15:51:37.395470Z",
     "shell.execute_reply": "2024-01-25T15:51:37.394440Z",
     "shell.execute_reply.started": "2024-01-25T15:51:37.390465Z"
    }
   },
   "outputs": [],
   "source": [
    "import torch\n",
    "from transformers import RobertaTokenizer, RobertaForSequenceClassification, AdamW\n",
    "from torch.utils.data import DataLoader, Dataset"
   ]
  },
  {
   "cell_type": "code",
   "execution_count": 78,
   "metadata": {
    "execution": {
     "iopub.execute_input": "2024-01-25T16:14:40.375859Z",
     "iopub.status.busy": "2024-01-25T16:14:40.375518Z",
     "iopub.status.idle": "2024-01-25T16:14:41.186330Z",
     "shell.execute_reply": "2024-01-25T16:14:41.185323Z",
     "shell.execute_reply.started": "2024-01-25T16:14:40.375833Z"
    }
   },
   "outputs": [
    {
     "name": "stderr",
     "output_type": "stream",
     "text": [
      "Some weights of the model checkpoint at roberta-large-mnli were not used when initializing RobertaForSequenceClassification: ['roberta.pooler.dense.bias', 'roberta.pooler.dense.weight']\n",
      "- This IS expected if you are initializing RobertaForSequenceClassification from the checkpoint of a model trained on another task or with another architecture (e.g. initializing a BertForSequenceClassification model from a BertForPreTraining model).\n",
      "- This IS NOT expected if you are initializing RobertaForSequenceClassification from the checkpoint of a model that you expect to be exactly identical (initializing a BertForSequenceClassification model from a BertForSequenceClassification model).\n"
     ]
    }
   ],
   "source": [
    "import torch\n",
    "from transformers import RobertaTokenizer, RobertaForSequenceClassification, AdamW\n",
    "from torch.utils.data import DataLoader, Dataset\n",
    "\n",
    "class FactVerificationDataset(Dataset):\n",
    "    def __init__(self, data):\n",
    "        self.data = data\n",
    "        self.tokenizer = RobertaTokenizer.from_pretrained('roberta-large-mnli')  # Change to the desired model name\n",
    "\n",
    "    def __len__(self):\n",
    "        return len(self.data)\n",
    "\n",
    "    def __getitem__(self, index):\n",
    "        item = self.data[index]\n",
    "        encoded_input = self.tokenizer.encode_plus(\n",
    "            item['Claim'],\n",
    "            item['evidence'],\n",
    "            padding='max_length',\n",
    "            truncation=True,\n",
    "            max_length=128,\n",
    "            return_tensors='pt'\n",
    "        )\n",
    "        label = item['label']\n",
    "        return {\n",
    "            'input_ids': encoded_input['input_ids'].squeeze(),\n",
    "            'attention_mask': encoded_input['attention_mask'].squeeze(),\n",
    "            'label': torch.tensor(label)\n",
    "        }\n",
    "\n",
    "# Step 2: Load the pre-trained model\n",
    "model = RobertaForSequenceClassification.from_pretrained('roberta-large-mnli', num_labels=3)  # Change to the desired model name\n",
    "tokenizer = RobertaTokenizer.from_pretrained('roberta-large-mnli')  # Change to the desired model name\n"
   ]
  },
  {
   "cell_type": "code",
   "execution_count": 79,
   "metadata": {
    "execution": {
     "iopub.execute_input": "2024-01-25T16:14:44.528368Z",
     "iopub.status.busy": "2024-01-25T16:14:44.527508Z",
     "iopub.status.idle": "2024-01-25T16:14:44.535193Z",
     "shell.execute_reply": "2024-01-25T16:14:44.534395Z",
     "shell.execute_reply.started": "2024-01-25T16:14:44.528333Z"
    }
   },
   "outputs": [],
   "source": [
    "import json\n",
    "\n",
    "# Step 1: Open the JSON file\n",
    "with open('/kaggle/input/ashhhhhhhhhhhhhhhhhh/test - Copy.json', 'r', encoding='utf-8') as file:\n",
    "    # Step 2: Parse the JSON data\n",
    "    testing_dataset = json.load(file)\n",
    "\n"
   ]
  },
  {
   "cell_type": "code",
   "execution_count": 80,
   "metadata": {
    "execution": {
     "iopub.execute_input": "2024-01-25T16:14:47.824075Z",
     "iopub.status.busy": "2024-01-25T16:14:47.823690Z",
     "iopub.status.idle": "2024-01-25T16:14:47.829869Z",
     "shell.execute_reply": "2024-01-25T16:14:47.828748Z",
     "shell.execute_reply.started": "2024-01-25T16:14:47.824045Z"
    }
   },
   "outputs": [
    {
     "name": "stdout",
     "output_type": "stream",
     "text": [
      "Key Names: ['Claim', 'evidence', 'label']\n"
     ]
    }
   ],
   "source": [
    "if testing_dataset and isinstance(testing_dataset[0], dict):\n",
    "    # Display the keys (column names) from the first dictionary\n",
    "    print(\"Key Names:\", list(testing_dataset[0].keys()))"
   ]
  },
  {
   "cell_type": "code",
   "execution_count": 81,
   "metadata": {
    "execution": {
     "iopub.execute_input": "2024-01-25T16:14:50.353025Z",
     "iopub.status.busy": "2024-01-25T16:14:50.352627Z",
     "iopub.status.idle": "2024-01-25T16:14:50.615031Z",
     "shell.execute_reply": "2024-01-25T16:14:50.614239Z",
     "shell.execute_reply.started": "2024-01-25T16:14:50.352993Z"
    }
   },
   "outputs": [],
   "source": [
    "evaluation_dataset = FactVerificationDataset(testing_dataset)"
   ]
  },
  {
   "cell_type": "code",
   "execution_count": 82,
   "metadata": {
    "execution": {
     "iopub.execute_input": "2024-01-25T16:14:52.244932Z",
     "iopub.status.busy": "2024-01-25T16:14:52.244564Z",
     "iopub.status.idle": "2024-01-25T16:14:52.602050Z",
     "shell.execute_reply": "2024-01-25T16:14:52.601161Z",
     "shell.execute_reply.started": "2024-01-25T16:14:52.244902Z"
    }
   },
   "outputs": [
    {
     "data": {
      "text/plain": [
       "RobertaForSequenceClassification(\n",
       "  (roberta): RobertaModel(\n",
       "    (embeddings): RobertaEmbeddings(\n",
       "      (word_embeddings): Embedding(50265, 1024, padding_idx=1)\n",
       "      (position_embeddings): Embedding(514, 1024, padding_idx=1)\n",
       "      (token_type_embeddings): Embedding(1, 1024)\n",
       "      (LayerNorm): LayerNorm((1024,), eps=1e-05, elementwise_affine=True)\n",
       "      (dropout): Dropout(p=0.1, inplace=False)\n",
       "    )\n",
       "    (encoder): RobertaEncoder(\n",
       "      (layer): ModuleList(\n",
       "        (0-23): 24 x RobertaLayer(\n",
       "          (attention): RobertaAttention(\n",
       "            (self): RobertaSelfAttention(\n",
       "              (query): Linear(in_features=1024, out_features=1024, bias=True)\n",
       "              (key): Linear(in_features=1024, out_features=1024, bias=True)\n",
       "              (value): Linear(in_features=1024, out_features=1024, bias=True)\n",
       "              (dropout): Dropout(p=0.1, inplace=False)\n",
       "            )\n",
       "            (output): RobertaSelfOutput(\n",
       "              (dense): Linear(in_features=1024, out_features=1024, bias=True)\n",
       "              (LayerNorm): LayerNorm((1024,), eps=1e-05, elementwise_affine=True)\n",
       "              (dropout): Dropout(p=0.1, inplace=False)\n",
       "            )\n",
       "          )\n",
       "          (intermediate): RobertaIntermediate(\n",
       "            (dense): Linear(in_features=1024, out_features=4096, bias=True)\n",
       "            (intermediate_act_fn): GELUActivation()\n",
       "          )\n",
       "          (output): RobertaOutput(\n",
       "            (dense): Linear(in_features=4096, out_features=1024, bias=True)\n",
       "            (LayerNorm): LayerNorm((1024,), eps=1e-05, elementwise_affine=True)\n",
       "            (dropout): Dropout(p=0.1, inplace=False)\n",
       "          )\n",
       "        )\n",
       "      )\n",
       "    )\n",
       "  )\n",
       "  (classifier): RobertaClassificationHead(\n",
       "    (dense): Linear(in_features=1024, out_features=1024, bias=True)\n",
       "    (dropout): Dropout(p=0.1, inplace=False)\n",
       "    (out_proj): Linear(in_features=1024, out_features=3, bias=True)\n",
       "  )\n",
       ")"
      ]
     },
     "execution_count": 82,
     "metadata": {},
     "output_type": "execute_result"
    }
   ],
   "source": [
    "device = torch.device('cuda' if torch.cuda.is_available() else 'cpu')\n",
    "model.to(device)\n",
    "\n",
    "# Evaluate the model on the testing dataset\n",
    "model.eval()\n"
   ]
  },
  {
   "cell_type": "code",
   "execution_count": 83,
   "metadata": {
    "execution": {
     "iopub.execute_input": "2024-01-25T16:14:55.614865Z",
     "iopub.status.busy": "2024-01-25T16:14:55.614503Z",
     "iopub.status.idle": "2024-01-25T16:15:05.912140Z",
     "shell.execute_reply": "2024-01-25T16:15:05.911129Z",
     "shell.execute_reply.started": "2024-01-25T16:14:55.614838Z"
    }
   },
   "outputs": [
    {
     "name": "stderr",
     "output_type": "stream",
     "text": [
      "Be aware, overflowing tokens are not returned for the setting you have chosen, i.e. sequence pairs with the 'longest_first' truncation strategy. So the returned list will always be empty even if some tokens have been removed.\n"
     ]
    },
    {
     "name": "stdout",
     "output_type": "stream",
     "text": [
      "Accuracy: 0.6098081023454158\n"
     ]
    }
   ],
   "source": [
    "evaluation_dataloader = DataLoader(evaluation_dataset, batch_size=16, shuffle=False)\n",
    "\n",
    "correct_predictions = 0\n",
    "total_predictions = 0\n",
    "\n",
    "for batch in evaluation_dataloader:\n",
    "    input_ids = batch['input_ids'].to(device)\n",
    "    attention_mask = batch['attention_mask'].to(device)\n",
    "    labels = batch['label'].to(device)\n",
    "\n",
    "    with torch.no_grad():\n",
    "        outputs = model(input_ids, attention_mask=attention_mask)\n",
    "        predicted_labels = torch.argmax(outputs.logits, dim=1)\n",
    "\n",
    "    correct_predictions += (predicted_labels == labels).sum().item()\n",
    "    total_predictions += len(labels)\n",
    "\n",
    "accuracy = correct_predictions / total_predictions\n",
    "print(f\"Accuracy: {accuracy}\")"
   ]
  },
  {
   "cell_type": "code",
   "execution_count": 84,
   "metadata": {
    "execution": {
     "iopub.execute_input": "2024-01-25T16:15:22.726631Z",
     "iopub.status.busy": "2024-01-25T16:15:22.725952Z",
     "iopub.status.idle": "2024-01-25T16:15:33.002253Z",
     "shell.execute_reply": "2024-01-25T16:15:33.001254Z",
     "shell.execute_reply.started": "2024-01-25T16:15:22.726597Z"
    }
   },
   "outputs": [
    {
     "name": "stderr",
     "output_type": "stream",
     "text": [
      "Be aware, overflowing tokens are not returned for the setting you have chosen, i.e. sequence pairs with the 'longest_first' truncation strategy. So the returned list will always be empty even if some tokens have been removed.\n"
     ]
    },
    {
     "name": "stdout",
     "output_type": "stream",
     "text": [
      "Accuracy: 0.6098081023454158\n"
     ]
    }
   ],
   "source": [
    "correct_predictions = 0\n",
    "total_predictions = 0\n",
    "predicted_labels_list = []  # List to store predicted labels\n",
    "original_labels_list = []   # List to store original labels\n",
    "\n",
    "for batch in evaluation_dataloader:\n",
    "    input_ids = batch['input_ids'].to(device)\n",
    "    attention_mask = batch['attention_mask'].to(device)\n",
    "    labels = batch['label'].to(device)\n",
    "\n",
    "    with torch.no_grad():\n",
    "        outputs = model(input_ids, attention_mask=attention_mask)\n",
    "        predicted_labels = torch.argmax(outputs.logits, dim=1)\n",
    "\n",
    "    correct_predictions += (predicted_labels == labels).sum().item()\n",
    "    total_predictions += len(labels)\n",
    "\n",
    "    # Append predicted and original labels to their respective lists\n",
    "    predicted_labels_list.extend(predicted_labels.cpu().numpy())\n",
    "    original_labels_list.extend(labels.cpu().numpy())\n",
    "\n",
    "accuracy = correct_predictions / total_predictions\n",
    "print(f\"Accuracy: {accuracy}\")\n",
    "\n",
    "# Now you can work with predicted_labels_list and original_labels_list outside the loop\n"
   ]
  },
  {
   "cell_type": "code",
   "execution_count": 85,
   "metadata": {
    "execution": {
     "iopub.execute_input": "2024-01-25T16:15:41.113236Z",
     "iopub.status.busy": "2024-01-25T16:15:41.112308Z",
     "iopub.status.idle": "2024-01-25T16:15:41.490930Z",
     "shell.execute_reply": "2024-01-25T16:15:41.489993Z",
     "shell.execute_reply.started": "2024-01-25T16:15:41.113200Z"
    }
   },
   "outputs": [
    {
     "data": {
      "image/png": "[encoded data removed]",
      "text/plain": [
       "<Figure size 800x600 with 2 Axes>"
      ]
     },
     "metadata": {},
     "output_type": "display_data"
    }
   ],
   "source": [
    "import numpy as np\n",
    "import matplotlib.pyplot as plt\n",
    "import seaborn as sns\n",
    "from sklearn.metrics import confusion_matrix\n",
    "\n",
    "# Assuming correct_predictions and predicted_labels are your data\n",
    "correct_predictions = [0, 1, 2, 0, 1, 2, 0, 1, 2]\n",
    "predicted_labels = [0, 1, 2, 1, 0, 1, 2, 0, 2]\n",
    "\n",
    "# Get unique labels from the data\n",
    "labels = [0,1,2]\n",
    "\n",
    "# Create the confusion matrix\n",
    "conf_matrix = confusion_matrix(original_labels_list, predicted_labels_list, labels=labels)\n",
    "\n",
    "# Create a heatmap using Seaborn\n",
    "plt.figure(figsize=(8, 6))\n",
    "sns.set(font_scale=1.2)\n",
    "sns.heatmap(conf_matrix, annot=True, fmt=\"d\", cmap=\"Blues\", xticklabels=labels, yticklabels=labels)\n",
    "plt.xlabel(\"Predicted\")\n",
    "plt.ylabel(\"Actual\")\n",
    "plt.title(\"Confusion Matrix\")\n",
    "plt.show()\n"
   ]
  },
  {
   "cell_type": "code",
   "execution_count": 86,
   "metadata": {
    "execution": {
     "iopub.execute_input": "2024-01-25T16:15:46.979011Z",
     "iopub.status.busy": "2024-01-25T16:15:46.978628Z",
     "iopub.status.idle": "2024-01-25T16:15:46.995123Z",
     "shell.execute_reply": "2024-01-25T16:15:46.994195Z",
     "shell.execute_reply.started": "2024-01-25T16:15:46.978979Z"
    }
   },
   "outputs": [
    {
     "name": "stdout",
     "output_type": "stream",
     "text": [
      "Classification Report:\n",
      "              precision    recall  f1-score   support\n",
      "\n",
      "           0       0.74      0.77      0.75       172\n",
      "           1       0.55      0.89      0.68       174\n",
      "           2       0.00      0.00      0.00       123\n",
      "\n",
      "    accuracy                           0.61       469\n",
      "   macro avg       0.43      0.55      0.48       469\n",
      "weighted avg       0.48      0.61      0.53       469\n",
      "\n"
     ]
    }
   ],
   "source": [
    "from sklearn.metrics import classification_report\n",
    "\n",
    "# Assuming original_labels_list and predicted_labels_list are your data\n",
    "\n",
    "\n",
    "# Get unique labels from the data\n",
    "labels = sorted(set(original_labels_list + predicted_labels_list))\n",
    "\n",
    "# Compute the classification report\n",
    "class_report = classification_report(original_labels_list, predicted_labels_list, labels=labels)\n",
    "\n",
    "# Print the classification report\n",
    "print(\"Classification Report:\")\n",
    "print(class_report)\n"
   ]
  },
  {
   "cell_type": "code",
   "execution_count": 87,
   "metadata": {
    "execution": {
     "iopub.execute_input": "2024-01-25T16:15:49.470388Z",
     "iopub.status.busy": "2024-01-25T16:15:49.469574Z",
     "iopub.status.idle": "2024-01-25T16:15:49.528511Z",
     "shell.execute_reply": "2024-01-25T16:15:49.527502Z",
     "shell.execute_reply.started": "2024-01-25T16:15:49.470347Z"
    }
   },
   "outputs": [
    {
     "name": "stdout",
     "output_type": "stream",
     "text": [
      "Micro Precision: 0.6098081023454158\n",
      "Micro Recall: 0.6098081023454158\n",
      "Micro F1 Score: 0.6098081023454158\n",
      "Macro Precision: 0.4298719127780666\n",
      "Macro Recall: 0.5508331105764946\n",
      "Macro F1 Score: 0.47706959706959706\n",
      "Class 0 - Micro Precision: 0.7415730337078652, Micro Recall: 0.7674418604651163, Micro F1 Score: 0.7542857142857143\n",
      "Class 0 - Macro Precision: 0.7415730337078652, Macro Recall: 0.7674418604651163, Macro F1 Score: 0.7542857142857143\n",
      "Class 1 - Micro Precision: 0.5480427046263345, Micro Recall: 0.8850574712643678, Micro F1 Score: 0.6769230769230768\n",
      "Class 1 - Macro Precision: 0.5480427046263345, Macro Recall: 0.8850574712643678, Macro F1 Score: 0.6769230769230768\n",
      "Class 2 - Micro Precision: 0.0, Micro Recall: 0.0, Micro F1 Score: 0.0\n",
      "Class 2 - Macro Precision: 0.0, Macro Recall: 0.0, Macro F1 Score: 0.0\n"
     ]
    }
   ],
   "source": [
    "from sklearn.metrics import precision_score, recall_score, f1_score\n",
    "\n",
    "# Assuming original_labels_list and predicted_labels_list are your data\n",
    "# Assuming labels are [0, 1, 2] for the three classes\n",
    "\n",
    "# Get unique labels from the data\n",
    "labels = [0, 1, 2]\n",
    "\n",
    "# Initialize dictionaries to store precision, recall, and F1 scores for each class\n",
    "precision_per_class = {}\n",
    "recall_per_class = {}\n",
    "f1_per_class = {}\n",
    "\n",
    "# Compute precision, recall, and F1 score for each class\n",
    "for label in labels:\n",
    "    precision_per_class[label] = precision_score(original_labels_list, predicted_labels_list, labels=[label], average='micro')\n",
    "    recall_per_class[label] = recall_score(original_labels_list, predicted_labels_list, labels=[label], average='micro')\n",
    "    f1_per_class[label] = f1_score(original_labels_list, predicted_labels_list, labels=[label], average='micro')\n",
    "\n",
    "# Compute micro averages\n",
    "micro_precision = precision_score(original_labels_list, predicted_labels_list, average='micro')\n",
    "micro_recall = recall_score(original_labels_list, predicted_labels_list, average='micro')\n",
    "micro_f1 = f1_score(original_labels_list, predicted_labels_list, average='micro')\n",
    "\n",
    "# Compute macro averages\n",
    "macro_precision = sum(precision_per_class.values()) / len(precision_per_class)\n",
    "macro_recall = sum(recall_per_class.values()) / len(recall_per_class)\n",
    "macro_f1 = sum(f1_per_class.values()) / len(f1_per_class)\n",
    "\n",
    "# Print or use the results as needed\n",
    "print(\"Micro Precision:\", micro_precision)\n",
    "print(\"Micro Recall:\", micro_recall)\n",
    "print(\"Micro F1 Score:\", micro_f1)\n",
    "print(\"Macro Precision:\", macro_precision)\n",
    "print(\"Macro Recall:\", macro_recall)\n",
    "print(\"Macro F1 Score:\", macro_f1)\n",
    "\n",
    "# Print precision, recall, and F1 scores for each class\n",
    "for label in labels:\n",
    "    print(f\"Class {label} - Micro Precision: {precision_per_class[label]}, Micro Recall: {recall_per_class[label]}, Micro F1 Score: {f1_per_class[label]}\")\n",
    "\n",
    "    # Calculate macro F1 for each class\n",
    "    precision_class = precision_score(original_labels_list, predicted_labels_list, labels=[label], average='macro')\n",
    "    recall_class = recall_score(original_labels_list, predicted_labels_list, labels=[label], average='macro')\n",
    "    f1_class = f1_score(original_labels_list, predicted_labels_list, labels=[label], average='macro')\n",
    "\n",
    "    print(f\"Class {label} - Macro Precision: {precision_class}, Macro Recall: {recall_class}, Macro F1 Score: {f1_class}\")\n"
   ]
  }
 ],
 "metadata": {
  "kaggle": {
   "accelerator": "nvidiaTeslaT4",
   "dataSources": [
    {
     "datasetId": 4354480,
     "sourceId": 7480429,
     "sourceType": "datasetVersion"
    }
   ],
   "dockerImageVersionId": 30636,
   "isGpuEnabled": true,
   "isInternetEnabled": true,
   "language": "python",
   "sourceType": "notebook"
  },
  "kernelspec": {
   "display_name": "Python 3",
   "language": "python",
   "name": "python3"
  },
  "language_info": {
   "codemirror_mode": {
    "name": "ipython",
    "version": 3
   },
   "file_extension": ".py",
   "mimetype": "text/x-python",
   "name": "python",
   "nbconvert_exporter": "python",
   "pygments_lexer": "ipython3",
   "version": "3.8.5"
  }
 },
 "nbformat": 4,
 "nbformat_minor": 4
}
