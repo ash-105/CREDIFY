{
 "cells": [
  {
   "cell_type": "code",
   "execution_count": 1,
   "metadata": {
    "_cell_guid": "b1076dfc-b9ad-4769-8c92-a6c4dae69d19",
    "_uuid": "8f2839f25d086af736a60e9eeb907d3b93b6e0e5",
    "execution": {
     "iopub.execute_input": "2024-01-27T10:02:42.719678Z",
     "iopub.status.busy": "2024-01-27T10:02:42.719274Z",
     "iopub.status.idle": "2024-01-27T10:04:17.183985Z",
     "shell.execute_reply": "2024-01-27T10:04:17.182963Z",
     "shell.execute_reply.started": "2024-01-27T10:02:42.719648Z"
    }
   },
   "outputs": [
    {
     "data": {
      "application/vnd.jupyter.widget-view+json": {
       "model_id": "291714f6e5e541cbb989967e99000a7e",
       "version_major": 2,
       "version_minor": 0
      },
      "text/plain": [
       "tokenizer_config.json:   0%|          | 0.00/418 [00:00<?, ?B/s]"
      ]
     },
     "metadata": {},
     "output_type": "display_data"
    },
    {
     "data": {
      "application/vnd.jupyter.widget-view+json": {
       "model_id": "c8669f018bd1420a8feff47d19495b35",
       "version_major": 2,
       "version_minor": 0
      },
      "text/plain": [
       "spm.model:   0%|          | 0.00/2.46M [00:00<?, ?B/s]"
      ]
     },
     "metadata": {},
     "output_type": "display_data"
    },
    {
     "data": {
      "application/vnd.jupyter.widget-view+json": {
       "model_id": "1ec39c1056bc4ef0bef81d39ecb3ca4e",
       "version_major": 2,
       "version_minor": 0
      },
      "text/plain": [
       "added_tokens.json:   0%|          | 0.00/18.0 [00:00<?, ?B/s]"
      ]
     },
     "metadata": {},
     "output_type": "display_data"
    },
    {
     "data": {
      "application/vnd.jupyter.widget-view+json": {
       "model_id": "a56b75021cfa4e31b94ab580d77980ca",
       "version_major": 2,
       "version_minor": 0
      },
      "text/plain": [
       "special_tokens_map.json:   0%|          | 0.00/156 [00:00<?, ?B/s]"
      ]
     },
     "metadata": {},
     "output_type": "display_data"
    },
    {
     "name": "stderr",
     "output_type": "stream",
     "text": [
      "/opt/conda/lib/python3.10/site-packages/transformers/convert_slow_tokenizer.py:473: UserWarning: The sentencepiece tokenizer that you are converting to a fast tokenizer uses the byte fallback option which is not implemented in the fast tokenizers. In practice this means that the fast version of the tokenizer can produce unknown tokens whereas the sentencepiece version would have converted these unknown tokens into a sequence of byte tokens matching the original piece of text.\n",
      "  warnings.warn(\n"
     ]
    },
    {
     "data": {
      "application/vnd.jupyter.widget-view+json": {
       "model_id": "a3b9e5c109bf4fd4a798007b84ac4435",
       "version_major": 2,
       "version_minor": 0
      },
      "text/plain": [
       "config.json:   0%|          | 0.00/1.06k [00:00<?, ?B/s]"
      ]
     },
     "metadata": {},
     "output_type": "display_data"
    },
    {
     "data": {
      "application/vnd.jupyter.widget-view+json": {
       "model_id": "31d8d43268cc42f1b97e1a998e2e5429",
       "version_major": 2,
       "version_minor": 0
      },
      "text/plain": [
       "model.safetensors:   0%|          | 0.00/1.74G [00:00<?, ?B/s]"
      ]
     },
     "metadata": {},
     "output_type": "display_data"
    }
   ],
   "source": [
    "# Load model directly\n",
    "from transformers import AutoTokenizer, AutoModelForSequenceClassification\n",
    "\n",
    "tokenizer = AutoTokenizer.from_pretrained(\"NDugar/debertav3-mnli-snli-anli\")\n",
    "model = AutoModelForSequenceClassification.from_pretrained(\"NDugar/debertav3-mnli-snli-anli\",num_labels=3)"
   ]
  },
  {
   "cell_type": "code",
   "execution_count": 2,
   "metadata": {
    "execution": {
     "iopub.execute_input": "2024-01-27T10:06:20.062113Z",
     "iopub.status.busy": "2024-01-27T10:06:20.061558Z",
     "iopub.status.idle": "2024-01-27T10:06:20.101880Z",
     "shell.execute_reply": "2024-01-27T10:06:20.100881Z",
     "shell.execute_reply.started": "2024-01-27T10:06:20.062079Z"
    }
   },
   "outputs": [],
   "source": [
    "import torch\n",
    "from transformers import RobertaTokenizer, RobertaForSequenceClassification, AdamW\n",
    "from torch.utils.data import DataLoader, Dataset\n",
    "\n",
    "class FactVerificationDataset(Dataset):\n",
    "    def __init__(self, data):\n",
    "        self.data = data\n",
    "        self.tokenizer =AutoTokenizer.from_pretrained(\"NDugar/debertav3-mnli-snli-anli\")  # Change to the desired model name\n",
    "\n",
    "    def __len__(self):\n",
    "        return len(self.data)\n",
    "\n",
    "    def __getitem__(self, index):\n",
    "        item = self.data[index]\n",
    "        encoded_input = self.tokenizer.encode_plus(\n",
    "            item['Claim'],\n",
    "            item['evidence'],\n",
    "            padding='max_length',\n",
    "            truncation=True,\n",
    "            max_length=128,\n",
    "            return_tensors='pt'\n",
    "        )\n",
    "        label = item['label']\n",
    "        return {\n",
    "            'input_ids': encoded_input['input_ids'].squeeze(),\n",
    "            'attention_mask': encoded_input['attention_mask'].squeeze(),\n",
    "            'label': torch.tensor(label)\n",
    "        }"
   ]
  },
  {
   "cell_type": "code",
   "execution_count": 4,
   "metadata": {
    "execution": {
     "iopub.execute_input": "2024-01-27T10:06:55.679066Z",
     "iopub.status.busy": "2024-01-27T10:06:55.678603Z",
     "iopub.status.idle": "2024-01-27T10:06:55.690841Z",
     "shell.execute_reply": "2024-01-27T10:06:55.689605Z",
     "shell.execute_reply.started": "2024-01-27T10:06:55.679032Z"
    }
   },
   "outputs": [],
   "source": [
    "import json\n",
    "\n",
    "# Step 1: Open the JSON file\n",
    "with open('/kaggle/input/aishaaaaaaaaaaaaaa/test - Copy.json', 'r', encoding='utf-8') as file:\n",
    "    # Step 2: Parse the JSON data\n",
    "    testing_dataset = json.load(file)\n",
    "\n"
   ]
  },
  {
   "cell_type": "code",
   "execution_count": 10,
   "metadata": {
    "execution": {
     "iopub.execute_input": "2024-01-27T10:08:21.897082Z",
     "iopub.status.busy": "2024-01-27T10:08:21.896688Z",
     "iopub.status.idle": "2024-01-27T10:08:23.394288Z",
     "shell.execute_reply": "2024-01-27T10:08:23.392994Z",
     "shell.execute_reply.started": "2024-01-27T10:08:21.897054Z"
    }
   },
   "outputs": [],
   "source": [
    "evaluation_dataset = FactVerificationDataset(testing_dataset)"
   ]
  },
  {
   "cell_type": "code",
   "execution_count": 11,
   "metadata": {
    "execution": {
     "iopub.execute_input": "2024-01-27T10:08:25.719961Z",
     "iopub.status.busy": "2024-01-27T10:08:25.719575Z",
     "iopub.status.idle": "2024-01-27T10:08:25.742865Z",
     "shell.execute_reply": "2024-01-27T10:08:25.741610Z",
     "shell.execute_reply.started": "2024-01-27T10:08:25.719931Z"
    }
   },
   "outputs": [
    {
     "data": {
      "text/plain": [
       "DebertaV2ForSequenceClassification(\n",
       "  (deberta): DebertaV2Model(\n",
       "    (embeddings): DebertaV2Embeddings(\n",
       "      (word_embeddings): Embedding(128100, 1024, padding_idx=0)\n",
       "      (LayerNorm): LayerNorm((1024,), eps=1e-07, elementwise_affine=True)\n",
       "      (dropout): StableDropout()\n",
       "    )\n",
       "    (encoder): DebertaV2Encoder(\n",
       "      (layer): ModuleList(\n",
       "        (0-23): 24 x DebertaV2Layer(\n",
       "          (attention): DebertaV2Attention(\n",
       "            (self): DisentangledSelfAttention(\n",
       "              (query_proj): Linear(in_features=1024, out_features=1024, bias=True)\n",
       "              (key_proj): Linear(in_features=1024, out_features=1024, bias=True)\n",
       "              (value_proj): Linear(in_features=1024, out_features=1024, bias=True)\n",
       "              (pos_dropout): StableDropout()\n",
       "              (dropout): StableDropout()\n",
       "            )\n",
       "            (output): DebertaV2SelfOutput(\n",
       "              (dense): Linear(in_features=1024, out_features=1024, bias=True)\n",
       "              (LayerNorm): LayerNorm((1024,), eps=1e-07, elementwise_affine=True)\n",
       "              (dropout): StableDropout()\n",
       "            )\n",
       "          )\n",
       "          (intermediate): DebertaV2Intermediate(\n",
       "            (dense): Linear(in_features=1024, out_features=4096, bias=True)\n",
       "            (intermediate_act_fn): GELUActivation()\n",
       "          )\n",
       "          (output): DebertaV2Output(\n",
       "            (dense): Linear(in_features=4096, out_features=1024, bias=True)\n",
       "            (LayerNorm): LayerNorm((1024,), eps=1e-07, elementwise_affine=True)\n",
       "            (dropout): StableDropout()\n",
       "          )\n",
       "        )\n",
       "      )\n",
       "      (rel_embeddings): Embedding(512, 1024)\n",
       "      (LayerNorm): LayerNorm((1024,), eps=1e-07, elementwise_affine=True)\n",
       "    )\n",
       "  )\n",
       "  (pooler): ContextPooler(\n",
       "    (dense): Linear(in_features=1024, out_features=1024, bias=True)\n",
       "    (dropout): StableDropout()\n",
       "  )\n",
       "  (classifier): Linear(in_features=1024, out_features=3, bias=True)\n",
       "  (dropout): StableDropout()\n",
       ")"
      ]
     },
     "execution_count": 11,
     "metadata": {},
     "output_type": "execute_result"
    }
   ],
   "source": [
    "device = torch.device('cuda' if torch.cuda.is_available() else 'cpu')\n",
    "model.to(device)\n",
    "\n",
    "# Evaluate the model on the testing dataset\n",
    "model.eval()\n"
   ]
  },
  {
   "cell_type": "code",
   "execution_count": 12,
   "metadata": {
    "execution": {
     "iopub.execute_input": "2024-01-27T10:08:27.973210Z",
     "iopub.status.busy": "2024-01-27T10:08:27.972799Z",
     "iopub.status.idle": "2024-01-27T10:15:58.575349Z",
     "shell.execute_reply": "2024-01-27T10:15:58.574262Z",
     "shell.execute_reply.started": "2024-01-27T10:08:27.973176Z"
    }
   },
   "outputs": [
    {
     "name": "stdout",
     "output_type": "stream",
     "text": [
      "Accuracy: 0.4136460554371002\n"
     ]
    }
   ],
   "source": [
    "evaluation_dataloader = DataLoader(evaluation_dataset, batch_size=16, shuffle=False)\n",
    "\n",
    "correct_predictions = 0\n",
    "total_predictions = 0\n",
    "\n",
    "for batch in evaluation_dataloader:\n",
    "    input_ids = batch['input_ids'].to(device)\n",
    "    attention_mask = batch['attention_mask'].to(device)\n",
    "    labels = batch['label'].to(device)\n",
    "\n",
    "    with torch.no_grad():\n",
    "        outputs = model(input_ids, attention_mask=attention_mask)\n",
    "        predicted_labels = torch.argmax(outputs.logits, dim=1)\n",
    "\n",
    "    correct_predictions += (predicted_labels == labels).sum().item()\n",
    "    total_predictions += len(labels)\n",
    "\n",
    "accuracy = correct_predictions / total_predictions\n",
    "print(f\"Accuracy: {accuracy}\")"
   ]
  },
  {
   "cell_type": "code",
   "execution_count": 15,
   "metadata": {
    "execution": {
     "iopub.execute_input": "2024-01-27T10:20:07.030520Z",
     "iopub.status.busy": "2024-01-27T10:20:07.029214Z",
     "iopub.status.idle": "2024-01-27T10:27:36.951655Z",
     "shell.execute_reply": "2024-01-27T10:27:36.950475Z",
     "shell.execute_reply.started": "2024-01-27T10:20:07.030470Z"
    }
   },
   "outputs": [
    {
     "name": "stdout",
     "output_type": "stream",
     "text": [
      "Accuracy: 0.4136460554371002\n"
     ]
    }
   ],
   "source": [
    "correct_predictions = 0\n",
    "total_predictions = 0\n",
    "predicted_labels_list = []  # List to store predicted labels\n",
    "original_labels_list = []   # List to store original labels\n",
    "\n",
    "for batch in evaluation_dataloader:\n",
    "    input_ids = batch['input_ids'].to(device)\n",
    "    attention_mask = batch['attention_mask'].to(device)\n",
    "    labels = batch['label'].to(device)\n",
    "\n",
    "    with torch.no_grad():\n",
    "        outputs = model(input_ids, attention_mask=attention_mask)\n",
    "        predicted_labels = torch.argmax(outputs.logits, dim=1)\n",
    "\n",
    "    correct_predictions += (predicted_labels == labels).sum().item()\n",
    "    total_predictions += len(labels)\n",
    "\n",
    "    # Append predicted and original labels to their respective lists\n",
    "    predicted_labels_list.extend(predicted_labels.cpu().numpy())\n",
    "    original_labels_list.extend(labels.cpu().numpy())\n",
    "\n",
    "accuracy = correct_predictions / total_predictions\n",
    "print(f\"Accuracy: {accuracy}\")\n",
    "\n",
    "# Now you can work with predicted_labels_list and original_labels_list outside the loop\n"
   ]
  },
  {
   "cell_type": "code",
   "execution_count": 17,
   "metadata": {
    "execution": {
     "iopub.execute_input": "2024-01-27T10:27:37.377092Z",
     "iopub.status.busy": "2024-01-27T10:27:37.376047Z",
     "iopub.status.idle": "2024-01-27T10:27:37.944675Z",
     "shell.execute_reply": "2024-01-27T10:27:37.943401Z",
     "shell.execute_reply.started": "2024-01-27T10:27:37.377059Z"
    }
   },
   "outputs": [
    {
     "data": {
      "image/png": "[encoded data removed]",
      "text/plain": [
       "<Figure size 800x600 with 2 Axes>"
      ]
     },
     "metadata": {},
     "output_type": "display_data"
    }
   ],
   "source": [
    "import numpy as np\n",
    "import matplotlib.pyplot as plt\n",
    "import seaborn as sns\n",
    "from sklearn.metrics import confusion_matrix\n",
    "\n",
    "# Assuming correct_predictions and predicted_labels are your data\n",
    "correct_predictions = [0, 1, 2, 0, 1, 2, 0, 1, 2]\n",
    "predicted_labels = [0, 1, 2, 1, 0, 1, 2, 0, 2]\n",
    "\n",
    "# Get unique labels from the data\n",
    "labels = [0,1,2]\n",
    "\n",
    "# Create the confusion matrix\n",
    "conf_matrix = confusion_matrix(original_labels_list, predicted_labels_list, labels=labels)\n",
    "\n",
    "# Create a heatmap using Seaborn\n",
    "plt.figure(figsize=(8, 6))\n",
    "sns.set(font_scale=1.2)\n",
    "sns.heatmap(conf_matrix, annot=True, fmt=\"d\", cmap=\"Blues\", xticklabels=labels, yticklabels=labels)\n",
    "plt.xlabel(\"Predicted\")\n",
    "plt.ylabel(\"Actual\")\n",
    "plt.title(\"Confusion Matrix\")\n",
    "plt.show()\n"
   ]
  },
  {
   "cell_type": "code",
   "execution_count": 18,
   "metadata": {
    "execution": {
     "iopub.execute_input": "2024-01-27T10:30:18.295878Z",
     "iopub.status.busy": "2024-01-27T10:30:18.295473Z",
     "iopub.status.idle": "2024-01-27T10:30:18.315850Z",
     "shell.execute_reply": "2024-01-27T10:30:18.314342Z",
     "shell.execute_reply.started": "2024-01-27T10:30:18.295848Z"
    }
   },
   "outputs": [
    {
     "name": "stdout",
     "output_type": "stream",
     "text": [
      "Classification Report:\n",
      "              precision    recall  f1-score   support\n",
      "\n",
      "           0       0.12      0.01      0.02       172\n",
      "           1       0.56      0.87      0.68       174\n",
      "           2       0.22      0.33      0.26       123\n",
      "\n",
      "    accuracy                           0.41       469\n",
      "   macro avg       0.30      0.40      0.32       469\n",
      "weighted avg       0.31      0.41      0.33       469\n",
      "\n"
     ]
    }
   ],
   "source": [
    "from sklearn.metrics import classification_report\n",
    "\n",
    "# Assuming original_labels_list and predicted_labels_list are your data\n",
    "\n",
    "\n",
    "# Get unique labels from the data\n",
    "labels = sorted(set(original_labels_list + predicted_labels_list))\n",
    "\n",
    "# Compute the classification report\n",
    "class_report = classification_report(original_labels_list, predicted_labels_list, labels=labels)\n",
    "\n",
    "# Print the classification report\n",
    "print(\"Classification Report:\")\n",
    "print(class_report)\n"
   ]
  }
 ],
 "metadata": {
  "kaggle": {
   "accelerator": "none",
   "dataSources": [
    {
     "datasetId": 4358907,
     "sourceId": 7487128,
     "sourceType": "datasetVersion"
    }
   ],
   "dockerImageVersionId": 30635,
   "isGpuEnabled": false,
   "isInternetEnabled": true,
   "language": "python",
   "sourceType": "notebook"
  },
  "kernelspec": {
   "display_name": "Python 3",
   "language": "python",
   "name": "python3"
  },
  "language_info": {
   "codemirror_mode": {
    "name": "ipython",
    "version": 3
   },
   "file_extension": ".py",
   "mimetype": "text/x-python",
   "name": "python",
   "nbconvert_exporter": "python",
   "pygments_lexer": "ipython3",
   "version": "3.8.5"
  }
 },
 "nbformat": 4,
 "nbformat_minor": 4
}
